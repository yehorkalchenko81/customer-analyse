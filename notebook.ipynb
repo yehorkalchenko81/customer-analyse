{
 "cells": [
  {
   "cell_type": "code",
   "execution_count": 1,
   "id": "ecaff448",
   "metadata": {},
   "outputs": [],
   "source": [
    "import pandas as pd\n",
    "import numpy as np\n",
    "import lightgbm as lgb\n",
    "from sklearn.model_selection import train_test_split, StratifiedKFold\n",
    "from sklearn.metrics import accuracy_score\n",
    "import json"
   ]
  },
  {
   "cell_type": "code",
   "execution_count": 2,
   "id": "33fdc66b",
   "metadata": {},
   "outputs": [],
   "source": [
    "df = pd.read_csv('WA_Fn-UseC_-Telco-Customer-Churn.csv')\n",
    "df.drop(columns=['customerID'], inplace=True)\n",
    "\n",
    "df['TotalCharges'] = pd.to_numeric(df['TotalCharges'], errors='coerce')"
   ]
  },
  {
   "cell_type": "code",
   "execution_count": 3,
   "id": "7c0d0428",
   "metadata": {},
   "outputs": [],
   "source": [
    "replace_maps = {\n",
    "    'YesNo': {'Yes': 1, 'No': 0},\n",
    "    'MaleFemale': {'Male': 1, 'Female': 0},\n",
    "    'Contract': {'Month-to-month': 0, 'One year': 1, 'Two year': 2},\n",
    "    'MultipleLines': {'No phone service': -1, 'No': 0, 'Yes': 1},\n",
    "    'PaymentMethod': {\n",
    "        'Electronic check': 0,\n",
    "        'Mailed check': 1,\n",
    "        'Bank transfer (automatic)': 2,\n",
    "        'Credit card (automatic)': 3\n",
    "    },\n",
    "    'InternetService': {'DSL': 1, 'Fiber optic': 2, 'No': 0},\n",
    "    'InternetServiceRelated': {'No internet service': -1, 'No': 0, 'Yes': 1}\n",
    "}\n",
    "\n",
    "internet_cols = [\n",
    "    'OnlineSecurity', 'OnlineBackup', 'DeviceProtection',\n",
    "    'TechSupport', 'StreamingTV', 'StreamingMovies'\n",
    "]\n"
   ]
  },
  {
   "cell_type": "code",
   "execution_count": 4,
   "id": "b275a7e5",
   "metadata": {},
   "outputs": [
    {
     "name": "stderr",
     "output_type": "stream",
     "text": [
      "C:\\Users\\Yehor\\AppData\\Local\\Temp\\ipykernel_8044\\714127848.py:3: FutureWarning: Downcasting behavior in `replace` is deprecated and will be removed in a future version. To retain the old behavior, explicitly call `result.infer_objects(copy=False)`. To opt-in to the future behavior, set `pd.set_option('future.no_silent_downcasting', True)`\n",
      "  df[yes_no_cols] = df[yes_no_cols].replace(replace_maps['YesNo'])\n",
      "C:\\Users\\Yehor\\AppData\\Local\\Temp\\ipykernel_8044\\714127848.py:6: FutureWarning: Downcasting behavior in `replace` is deprecated and will be removed in a future version. To retain the old behavior, explicitly call `result.infer_objects(copy=False)`. To opt-in to the future behavior, set `pd.set_option('future.no_silent_downcasting', True)`\n",
      "  df[mf_cols] = df[mf_cols].replace(replace_maps['MaleFemale'])\n",
      "C:\\Users\\Yehor\\AppData\\Local\\Temp\\ipykernel_8044\\714127848.py:10: FutureWarning: Downcasting behavior in `replace` is deprecated and will be removed in a future version. To retain the old behavior, explicitly call `result.infer_objects(copy=False)`. To opt-in to the future behavior, set `pd.set_option('future.no_silent_downcasting', True)`\n",
      "  df[col] = df[col].replace(replace_maps[col])\n",
      "C:\\Users\\Yehor\\AppData\\Local\\Temp\\ipykernel_8044\\714127848.py:12: FutureWarning: Downcasting behavior in `replace` is deprecated and will be removed in a future version. To retain the old behavior, explicitly call `result.infer_objects(copy=False)`. To opt-in to the future behavior, set `pd.set_option('future.no_silent_downcasting', True)`\n",
      "  df[internet_cols] = df[internet_cols].replace(replace_maps['InternetServiceRelated'])\n"
     ]
    }
   ],
   "source": [
    "def replace_categories(df):\n",
    "    yes_no_cols = [col for col in df.select_dtypes(include='object').columns if df[col].isin(['Yes', 'No']).any()]\n",
    "    df[yes_no_cols] = df[yes_no_cols].replace(replace_maps['YesNo'])\n",
    "\n",
    "    mf_cols = [col for col in df.select_dtypes(include='object').columns if df[col].isin(['Male', 'Female']).any()]\n",
    "    df[mf_cols] = df[mf_cols].replace(replace_maps['MaleFemale'])\n",
    "\n",
    "    for col in ['Contract', 'MultipleLines', 'PaymentMethod', 'InternetService']:\n",
    "        if col in df.columns:\n",
    "            df[col] = df[col].replace(replace_maps[col])\n",
    "\n",
    "    df[internet_cols] = df[internet_cols].replace(replace_maps['InternetServiceRelated'])\n",
    "    \n",
    "    return df\n",
    "\n",
    "df = replace_categories(df)\n"
   ]
  },
  {
   "cell_type": "code",
   "execution_count": 5,
   "id": "1ac56a34",
   "metadata": {},
   "outputs": [],
   "source": [
    "X = df.drop('Churn', axis=1).values\n",
    "y = df['Churn'].values\n"
   ]
  },
  {
   "cell_type": "code",
   "execution_count": 6,
   "id": "04963a5d",
   "metadata": {},
   "outputs": [],
   "source": [
    "X_train, X_valid, y_train, y_valid = train_test_split(\n",
    "    X, y, test_size=0.2, random_state=42, stratify=y\n",
    ")\n"
   ]
  },
  {
   "cell_type": "code",
   "execution_count": 7,
   "id": "4f478959",
   "metadata": {},
   "outputs": [],
   "source": [
    "params = {\n",
    "    'objective': 'binary',\n",
    "    'metric': 'binary_logloss',\n",
    "    'boosting_type': 'gbdt',\n",
    "    'num_leaves': 64,\n",
    "    'max_depth': 10,\n",
    "    'min_data_in_leaf': 30,\n",
    "    'learning_rate': 0.01,\n",
    "    'feature_fraction': 0.8,\n",
    "    'bagging_fraction': 0.8,\n",
    "    'bagging_freq': 5,\n",
    "    'lambda_l1': 0.5,\n",
    "    'lambda_l2': 0.5,\n",
    "    'verbose': -1,\n",
    "    'is_unbalance': True\n",
    "}\n"
   ]
  },
  {
   "cell_type": "code",
   "execution_count": 8,
   "id": "c6936ee1",
   "metadata": {},
   "outputs": [
    {
     "name": "stdout",
     "output_type": "stream",
     "text": [
      "Training until validation scores don't improve for 50 rounds\n",
      "[50]\tvalid_0's binary_logloss: 0.485162\n",
      "[100]\tvalid_0's binary_logloss: 0.461384\n",
      "[150]\tvalid_0's binary_logloss: 0.457068\n",
      "[200]\tvalid_0's binary_logloss: 0.458616\n",
      "Early stopping, best iteration is:\n",
      "[150]\tvalid_0's binary_logloss: 0.457068\n",
      "LightGBM accuracy: 0.7764\n"
     ]
    }
   ],
   "source": [
    "train_data = lgb.Dataset(X_train, label=y_train)\n",
    "valid_data = lgb.Dataset(X_valid, label=y_valid)\n",
    "\n",
    "model = lgb.train(\n",
    "    params,\n",
    "    train_data,\n",
    "    num_boost_round=1000,\n",
    "    valid_sets=[valid_data],\n",
    "    callbacks=[lgb.early_stopping(stopping_rounds=50), lgb.log_evaluation(50)]\n",
    ")\n",
    "\n",
    "y_pred = model.predict(X_valid)\n",
    "y_pred_labels = (y_pred > 0.5).astype(int)\n",
    "print(f\"LightGBM accuracy: {accuracy_score(y_valid, y_pred_labels):.4f}\")\n"
   ]
  },
  {
   "cell_type": "code",
   "execution_count": 9,
   "id": "fb08479e",
   "metadata": {},
   "outputs": [
    {
     "name": "stdout",
     "output_type": "stream",
     "text": [
      "Training until validation scores don't improve for 50 rounds\n",
      "[100]\tvalid_0's binary_logloss: 0.452319\n",
      "[200]\tvalid_0's binary_logloss: 0.4446\n",
      "Early stopping, best iteration is:\n",
      "[185]\tvalid_0's binary_logloss: 0.444119\n",
      "Training until validation scores don't improve for 50 rounds\n",
      "[100]\tvalid_0's binary_logloss: 0.467965\n",
      "Early stopping, best iteration is:\n",
      "[134]\tvalid_0's binary_logloss: 0.465295\n",
      "Training until validation scores don't improve for 50 rounds\n",
      "[100]\tvalid_0's binary_logloss: 0.455624\n",
      "[200]\tvalid_0's binary_logloss: 0.449154\n",
      "Early stopping, best iteration is:\n",
      "[184]\tvalid_0's binary_logloss: 0.448487\n",
      "Training until validation scores don't improve for 50 rounds\n",
      "[100]\tvalid_0's binary_logloss: 0.471171\n",
      "Early stopping, best iteration is:\n",
      "[128]\tvalid_0's binary_logloss: 0.468596\n",
      "Training until validation scores don't improve for 50 rounds\n",
      "[100]\tvalid_0's binary_logloss: 0.460081\n",
      "[200]\tvalid_0's binary_logloss: 0.455478\n",
      "Early stopping, best iteration is:\n",
      "[155]\tvalid_0's binary_logloss: 0.45409\n",
      "CV accuracy scores: [0.78708303761533, 0.7714691270404542, 0.7842441447835344, 0.7705965909090909, 0.7663352272727273]\n",
      "Mean CV accuracy: 0.7759\n"
     ]
    }
   ],
   "source": [
    "folds = StratifiedKFold(n_splits=5, shuffle=True, random_state=42)\n",
    "scores = []\n",
    "\n",
    "for train_idx, valid_idx in folds.split(X, y):\n",
    "    train_data = lgb.Dataset(X[train_idx], label=y[train_idx])\n",
    "    valid_data = lgb.Dataset(X[valid_idx], label=y[valid_idx])\n",
    "    \n",
    "    model = lgb.train(\n",
    "        params,\n",
    "        train_data,\n",
    "        num_boost_round=1000,\n",
    "        valid_sets=[valid_data],\n",
    "        callbacks=[lgb.early_stopping(stopping_rounds=50), lgb.log_evaluation(100)]\n",
    "    )\n",
    "    \n",
    "    y_pred = model.predict(X[valid_idx])\n",
    "    y_pred_labels = (y_pred > 0.5).astype(int)\n",
    "    scores.append(accuracy_score(y[valid_idx], y_pred_labels))\n",
    "\n",
    "print(f\"CV accuracy scores: {scores}\")\n",
    "print(f\"Mean CV accuracy: {np.mean(scores):.4f}\")\n"
   ]
  },
  {
   "cell_type": "code",
   "execution_count": 10,
   "id": "8e903d1e",
   "metadata": {},
   "outputs": [],
   "source": [
    "def save_preprocessing_config(config, filepath):\n",
    "    with open(filepath, 'w') as f:\n",
    "        json.dump(config, f, indent=4)\n",
    "\n",
    "save_preprocessing_config({'mappings': replace_maps}, 'preprocessing_config.json')\n"
   ]
  },
  {
   "cell_type": "code",
   "execution_count": 11,
   "id": "716c12b9",
   "metadata": {},
   "outputs": [
    {
     "data": {
      "text/plain": [
       "<lightgbm.basic.Booster at 0x210c3a86fb0>"
      ]
     },
     "execution_count": 11,
     "metadata": {},
     "output_type": "execute_result"
    }
   ],
   "source": [
    "model.save_model('model.txt')"
   ]
  },
  {
   "cell_type": "code",
   "execution_count": null,
   "id": "8fb3a88f",
   "metadata": {},
   "outputs": [],
   "source": []
  }
 ],
 "metadata": {
  "kernelspec": {
   "display_name": ".venv",
   "language": "python",
   "name": "python3"
  },
  "language_info": {
   "codemirror_mode": {
    "name": "ipython",
    "version": 3
   },
   "file_extension": ".py",
   "mimetype": "text/x-python",
   "name": "python",
   "nbconvert_exporter": "python",
   "pygments_lexer": "ipython3",
   "version": "3.10.4"
  }
 },
 "nbformat": 4,
 "nbformat_minor": 5
}
